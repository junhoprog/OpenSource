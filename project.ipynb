{
 "cells": [
  {
   "cell_type": "code",
   "execution_count": 32,
   "metadata": {},
   "outputs": [
    {
     "name": "stdout",
     "output_type": "stream",
     "text": [
      "     25-29  30-34\n",
      "전국    27.5   76.1\n",
      "서울    12.1   57.6\n",
      "부산    21.4   69.8\n",
      "대구    25.6   76.8\n",
      "인천    27.5   71.0\n",
      "광주    32.0   86.1\n",
      "대전    28.9   76.6\n",
      "울산    38.5   95.1\n",
      "세종    54.6  128.1\n",
      "경기도   29.0   81.2\n",
      "강원도   47.0   87.2\n",
      "충북    43.0   88.4\n",
      "충남    46.6   86.2\n",
      "전북    36.5   75.9\n",
      "전남    46.0   92.8\n",
      "경북    43.5   89.2\n",
      "경남    38.7   87.0\n",
      "제주    38.3   81.7\n"
     ]
    },
    {
     "ename": "TypeError",
     "evalue": "cannot convert the series to <class 'float'>",
     "output_type": "error",
     "traceback": [
      "\u001b[1;31m---------------------------------------------------------------------------\u001b[0m",
      "\u001b[1;31mTypeError\u001b[0m                                 Traceback (most recent call last)",
      "\u001b[1;32m<ipython-input-32-92f5ec82e12f>\u001b[0m in \u001b[0;36m<module>\u001b[1;34m\u001b[0m\n\u001b[0;32m     19\u001b[0m \u001b[1;33m\u001b[0m\u001b[0m\n\u001b[0;32m     20\u001b[0m \u001b[0mdf\u001b[0m\u001b[1;33m[\u001b[0m\u001b[1;34m'결혼적령기'\u001b[0m\u001b[1;33m]\u001b[0m\u001b[1;33m=\u001b[0m\u001b[1;34m's'\u001b[0m\u001b[1;33m\u001b[0m\u001b[1;33m\u001b[0m\u001b[0m\n\u001b[1;32m---> 21\u001b[1;33m \u001b[1;32mif\u001b[0m \u001b[0mfloat\u001b[0m\u001b[1;33m(\u001b[0m\u001b[0mdf\u001b[0m\u001b[1;33m[\u001b[0m\u001b[1;34m'결혼적령기'\u001b[0m\u001b[1;33m]\u001b[0m\u001b[1;33m)\u001b[0m\u001b[1;33m<\u001b[0m\u001b[1;36m40\u001b[0m\u001b[1;33m&\u001b[0m\u001b[0mfloat\u001b[0m\u001b[1;33m(\u001b[0m\u001b[0mdf\u001b[0m\u001b[1;33m[\u001b[0m\u001b[1;34m'결혼적령기'\u001b[0m\u001b[1;33m]\u001b[0m\u001b[1;33m)\u001b[0m\u001b[1;33m>=\u001b[0m\u001b[1;36m20\u001b[0m\u001b[1;33m:\u001b[0m\u001b[1;33m\u001b[0m\u001b[1;33m\u001b[0m\u001b[0m\n\u001b[0m\u001b[0;32m     22\u001b[0m     \u001b[0mdf\u001b[0m\u001b[1;33m[\u001b[0m\u001b[1;34m'결혼적령기'\u001b[0m\u001b[1;33m]\u001b[0m\u001b[1;33m=\u001b[0m\u001b[1;34m't'\u001b[0m\u001b[1;33m\u001b[0m\u001b[1;33m\u001b[0m\u001b[0m\n\u001b[0;32m     23\u001b[0m \u001b[1;33m\u001b[0m\u001b[0m\n",
      "\u001b[1;32mc:\\Users\\user\\Anaconda3\\lib\\site-packages\\pandas\\core\\series.py\u001b[0m in \u001b[0;36mwrapper\u001b[1;34m(self)\u001b[0m\n\u001b[0;32m    129\u001b[0m         \u001b[1;32mif\u001b[0m \u001b[0mlen\u001b[0m\u001b[1;33m(\u001b[0m\u001b[0mself\u001b[0m\u001b[1;33m)\u001b[0m \u001b[1;33m==\u001b[0m \u001b[1;36m1\u001b[0m\u001b[1;33m:\u001b[0m\u001b[1;33m\u001b[0m\u001b[1;33m\u001b[0m\u001b[0m\n\u001b[0;32m    130\u001b[0m             \u001b[1;32mreturn\u001b[0m \u001b[0mconverter\u001b[0m\u001b[1;33m(\u001b[0m\u001b[0mself\u001b[0m\u001b[1;33m.\u001b[0m\u001b[0miloc\u001b[0m\u001b[1;33m[\u001b[0m\u001b[1;36m0\u001b[0m\u001b[1;33m]\u001b[0m\u001b[1;33m)\u001b[0m\u001b[1;33m\u001b[0m\u001b[1;33m\u001b[0m\u001b[0m\n\u001b[1;32m--> 131\u001b[1;33m         \u001b[1;32mraise\u001b[0m \u001b[0mTypeError\u001b[0m\u001b[1;33m(\u001b[0m\u001b[1;34m\"cannot convert the series to \"\u001b[0m \u001b[1;34m\"{0}\"\u001b[0m\u001b[1;33m.\u001b[0m\u001b[0mformat\u001b[0m\u001b[1;33m(\u001b[0m\u001b[0mstr\u001b[0m\u001b[1;33m(\u001b[0m\u001b[0mconverter\u001b[0m\u001b[1;33m)\u001b[0m\u001b[1;33m)\u001b[0m\u001b[1;33m)\u001b[0m\u001b[1;33m\u001b[0m\u001b[1;33m\u001b[0m\u001b[0m\n\u001b[0m\u001b[0;32m    132\u001b[0m \u001b[1;33m\u001b[0m\u001b[0m\n\u001b[0;32m    133\u001b[0m     \u001b[0mwrapper\u001b[0m\u001b[1;33m.\u001b[0m\u001b[0m__name__\u001b[0m \u001b[1;33m=\u001b[0m \u001b[1;34m\"__{name}__\"\u001b[0m\u001b[1;33m.\u001b[0m\u001b[0mformat\u001b[0m\u001b[1;33m(\u001b[0m\u001b[0mname\u001b[0m\u001b[1;33m=\u001b[0m\u001b[0mconverter\u001b[0m\u001b[1;33m.\u001b[0m\u001b[0m__name__\u001b[0m\u001b[1;33m)\u001b[0m\u001b[1;33m\u001b[0m\u001b[1;33m\u001b[0m\u001b[0m\n",
      "\u001b[1;31mTypeError\u001b[0m: cannot convert the series to <class 'float'>"
     ]
    }
   ],
   "source": [
    "# 라이브러리 불러오기\n",
    "import pandas as pd\n",
    "import matplotlib.pyplot as plt\n",
    "from matplotlib import font_manager,rc\n",
    "font_path=\"./malgun.ttf\"\n",
    "font_name=font_manager.FontProperties(fname=font_path).get_name()\n",
    "rc('font',family=font_name)\n",
    "\n",
    "# 파일경로를 찾고, 변수 file_path에 저장\n",
    "file_path = './projectdata.csv'\n",
    "\n",
    "# read_csv() 함수로 데이터프레임 변환. 변수 df1에 저장\n",
    "df = pd.read_csv(file_path,encoding='cp949')\n",
    "\n",
    "df.index=['전국','서울','부산','대구','인천','광주','대전','울산','세종','경기도','강원도','충북','충남','전북','전남','경북','경남','제주']\n",
    "#결혼적령기열\n",
    "df_ns=df.iloc[:,[3,4]]\n",
    "print(df_ns)\n",
    "\n",
    "df['결혼적령기']='s'\n",
    "if float(df['결혼적령기'])<40&float(df['결혼적령기'])>=20:\n",
    "    df['결혼적령기']='t'\n",
    "    \n",
    "print(df)\n",
    "\n",
    "for key,group in grouped:\n",
    "    print(\"key: \",key)\n",
    "    print(group)\n",
    "\n",
    "def means (x):\n",
    "    return x-x.mean()\n",
    "\n",
    "means=grouped.mean()\n",
    "group_filter=grouped.filter(means)\n",
    "print(group_filter)\n",
    "\n",
    "print('\\n')\n",
    "#충청북도의 출산율 데이터만 추출하여 정리\n",
    "col_age=['합계출산율','15-19','20-24','25-29','30-34','35-39','40-44','45-49']\n",
    "df_2=df.loc[['전국','충북'],col_age]\n",
    "\n",
    "\n",
    "fig=plt.figure(figsize=(10,5))\n",
    "ax=fig.add_subplot(1,1,1)\n",
    "ax.plot(col_age,df_2.loc['충북',:],marker='o',markersize=10,markerfacecolor='green')\n",
    "ax.plot(col_age,df_2.loc['전국',:],marker='o',markersize=10,markerfacecolor='red')\n",
    "ax.set_title('충북-전국 출산율 비교')\n",
    "ax.set_xlabel('연령')\n",
    "ax.set_ylabel('출산율')\n",
    "\n",
    "\n",
    "#'지역','전국','서울','부산','대구','인천','광주','대전','울산','세종','경기도','강원도','충북','충남','전북','전남','경북','경남','제주'\n",
    "\n",
    "\n",
    "'''\n",
    "1)groupby를 사용한 데이터 그룹화 후 간단한 통계 분석(method3개이상사용)\n",
    "\n",
    "2)matplotlib를 활용한 그래프 그리기 (그래프 종류는 자유, 그래프 2가지 이상)\n",
    "3)머신러닝 기법 1개 이상을 사용한 모델학습 및 모델 평가 수치 게산\n",
    "'''"
   ]
  }
 ],
 "metadata": {
  "kernelspec": {
   "display_name": "Python 3.7.4 ('base': conda)",
   "language": "python",
   "name": "python3"
  },
  "language_info": {
   "codemirror_mode": {
    "name": "ipython",
    "version": 3
   },
   "file_extension": ".py",
   "mimetype": "text/x-python",
   "name": "python",
   "nbconvert_exporter": "python",
   "pygments_lexer": "ipython3",
   "version": "3.7.4"
  },
  "vscode": {
   "interpreter": {
    "hash": "c1124073dee199d8e1894afd18905e6ab65c2b78c2f71f2204c8c819619ccb15"
   }
  }
 },
 "nbformat": 4,
 "nbformat_minor": 4
}

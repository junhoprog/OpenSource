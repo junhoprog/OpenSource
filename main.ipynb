{
 "cells": [
  {
   "cell_type": "code",
   "execution_count": null,
   "metadata": {},
   "outputs": [],
   "source": [
    "from selenium import webdriver\n",
    "from webdriver_manager.chrome import ChromeDriverManager\n",
    "import requests\n",
    "from bs4 import BeautifulSoup\n",
    "import pandas as pd\n",
    "import numpy as np\n",
    "import re\n",
    "\n",
    "url = \"https://corona-live.com/\"\n",
    "driver = webdriver.Chrome(ChromeDriverManager().install())\n",
    "driver.implicitly_wait(30)\n",
    "\n",
    "driver.get(url)\n",
    "soup = BeautifulSoup(driver.page_source, 'html.parser')\n",
    "\n",
    "today = []\n",
    "total = []\n",
    "total_d = []\n",
    "city = soup.select('td.c-fWUTTQ.c-fWUTTQ-fYeKAw-shadow-true.c-fWUTTQ-cOWTvr-centered-true.c-fWUTTQ-ihKxHaz-css > a > div > div.c-PJLV')\n",
    "c_data = soup.find_all('div',{'class':'c-grmDeR'})\n",
    "\n",
    "city_csv=[]\n",
    "total_csv=[]\n",
    "today_csv=[]\n",
    "total_d_csv=[]\n",
    "city_data=[]\n",
    "for i in c_data:\n",
    "    today = c_data[::5]\n",
    "    total = c_data[1::5]\n",
    "    total_d = c_data[2::5]\n",
    "\n",
    "for a,b,c,d in zip(city,today,total,total_d):\n",
    "    city_csv = a.get_text()\n",
    "    today_csv = b.get_text()\n",
    "    total_csv = c.get_text()\n",
    "    total_d_csv = d.get_text()\n",
    "    city_data.append([city_csv,today_csv,total_csv,total_d_csv])\n",
    "\n",
    "df=pd.DataFrame(np.array(city_data), columns=[\"지역\",\"오늘 확진자\",\"총 확진자\", \"총 사망자\"])\n",
    "df.to_csv('C:\\\\Users\\\\user\\\\새폴더\\\\data.csv', sep=',',encoding='utf-8-sig')"
   ]
  }
 ],
 "metadata": {
  "kernelspec": {
   "display_name": "Python 3.10.7 64-bit (microsoft store)",
   "language": "python",
   "name": "python3"
  },
  "language_info": {
   "codemirror_mode": {
    "name": "ipython",
    "version": 3
   },
   "file_extension": ".py",
   "mimetype": "text/x-python",
   "name": "python",
   "nbconvert_exporter": "python",
   "pygments_lexer": "ipython3",
   "version": "3.10.9"
  },
  "orig_nbformat": 4,
  "vscode": {
   "interpreter": {
    "hash": "7b1f2b33e866b0bf2409397e5f58ba9cdf170d3b7f64c8f359c79998e2f88ad4"
   }
  }
 },
 "nbformat": 4,
 "nbformat_minor": 2
}
